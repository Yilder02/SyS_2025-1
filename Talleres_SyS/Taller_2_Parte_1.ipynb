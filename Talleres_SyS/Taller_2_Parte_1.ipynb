{
  "nbformat": 4,
  "nbformat_minor": 0,
  "metadata": {
    "colab": {
      "provenance": [],
      "authorship_tag": "ABX9TyNDxZQVMFiegJKuTp6g+2YH",
      "include_colab_link": true
    },
    "kernelspec": {
      "name": "python3",
      "display_name": "Python 3"
    },
    "language_info": {
      "name": "python"
    }
  },
  "cells": [
    {
      "cell_type": "markdown",
      "metadata": {
        "id": "view-in-github",
        "colab_type": "text"
      },
      "source": [
        "<a href=\"https://colab.research.google.com/github/Yilder02/SyS_2025-1/blob/main/Talleres_SyS/Taller_2_Parte_1.ipynb\" target=\"_parent\"><img src=\"https://colab.research.google.com/assets/colab-badge.svg\" alt=\"Open In Colab\"/></a>"
      ]
    },
    {
      "cell_type": "markdown",
      "source": [
        "## Punto 1 – Comparación entre Series y Transformadas de Fourier + Algoritmo FFT\n",
        "\n",
        "### 1. Serie de Fourier vs. Transformadas de Fourier\n",
        "\n",
        "| Concepto                            | Serie de Fourier                                     | Transformada de Fourier                              |\n",
        "|------------------------------------|------------------------------------------------------|------------------------------------------------------|\n",
        "| **Tipo de señal**                  | Periódica                                            | Aperiodica                                           |\n",
        "| **Dominio**                        | Tiempo continuo y discreto                           | Tiempo continuo (FT), tiempo discreto (DTFT, DFT)    |\n",
        "| **Espectro**                       | Discreto (solo ciertas frecuencias armónicas)        | Continuo (FT, DTFT) o discreto (DFT)                 |\n",
        "| **Tipos de serie**                 | Trigonométrica, exponencial y compacta               | No aplica                                            |\n",
        "| **Representación**                 | Suma infinita de senos y cosenos (o exponenciales)   | Integral (FT), suma infinita (DTFT), suma finita (DFT) |\n",
        "| **Aplicaciones**                  | Señales periódicas (sistemas eléctricos, vibraciones)| Análisis espectral, procesamiento de señales         |\n",
        "\n",
        "---\n",
        "\n",
        "### 2. Tipos de transformadas\n",
        "\n",
        "#### a) **Transformada de Fourier (FT)**\n",
        "- Se aplica a señales **continuas** y **aperiódicas**.\n",
        "- Resultado: Espectro de frecuencia **continuo**.\n",
        "- Fórmula:  \n",
        "  $\n",
        "  X(w) = \\int_{-\\infty}^{\\infty} x(t) e^{-j w t} dt\n",
        "  $\n",
        "\n",
        "#### b) **Transformada de Fourier en Tiempo Discreto (DTFT)**\n",
        "- Se aplica a señales **discretas** en tiempo pero de **duración infinita**.\n",
        "- Resultado: Espectro de frecuencia **continuo y periódico**.\n",
        "- Fórmula:  \n",
        "  $\n",
        "  X(e^{j\\omega}) = \\sum_{n=-\\infty}^{\\infty} x[n] e^{-j \\omega n}\n",
        "  $\n",
        "\n",
        "#### c) **Transformada Discreta de Fourier (DFT)**\n",
        "- Se aplica a señales **discretas y de duración finita**.\n",
        "- Resultado: Espectro **discreto y periódico**.\n",
        "- Fórmula:  \n",
        "  $\n",
        "  X[k] = \\sum_{n=0}^{N-1} x[n] e^{-j \\frac{2\\pi}{N}kn}\n",
        "  $\n",
        "\n",
        "---\n",
        "\n",
        "### 3. Combinaciones de señal y espectro\n",
        "\n",
        "| Tipo de señal       | Espectro       | Ejemplo de transformada |\n",
        "|---------------------|----------------|--------------------------|\n",
        "| Continua en tiempo  | Continua       | Fourier (FT)             |\n",
        "| Discreta en tiempo  | Continua       | DTFT                     |\n",
        "| Discreta en tiempo  | Discreta       | DFT                      |\n",
        "| Continua en tiempo  | Discreta       | Serie de Fourier         |\n",
        "\n",
        "---\n",
        "\n",
        "### 4. Algoritmo Fast Fourier Transform (FFT)\n",
        "\n",
        "#### ¿Qué es el FFT?\n",
        "Es un algoritmo eficiente para calcular la DFT. Reduce drásticamente el número de operaciones necesarias de **O(N²)** (DFT directa) a **O(N log N)**.\n",
        "\n",
        "#### Utilidad del FFT:\n",
        "- Procesamiento de audio y video.\n",
        "- Análisis espectral en tiempo real.\n",
        "- Compresión de datos (como MP3, JPEG).\n",
        "- Comunicaciones digitales.\n",
        "\n",
        "#### ¿Cómo funciona el FFT?\n",
        "- Divide la señal en partes más pequeñas (divide y vencerás).\n",
        "- Se aplica la recursión a estas partes.\n",
        "- Utiliza simetría y periodicidad para minimizar cálculos.\n",
        "\n",
        "---\n",
        "\n",
        "### 5. Comparación de costos computacionales\n",
        "\n",
        "| Método | Número de operaciones |\n",
        "|--------|------------------------|\n",
        "| DFT    | \\( O(N^2) \\)           |\n",
        "| FFT    | \\( O(N \\log N) \\)      |\n",
        "\n",
        "---\n",
        "\n",
        "### Conclusión\n",
        "\n",
        "- La elección entre serie y transformada de Fourier depende del tipo de señal (periódica o aperiodica).\n",
        "- Las transformadas DTFT y DFT permiten trabajar con señales digitales.\n",
        "- El algoritmo FFT es clave en aplicaciones modernas por su eficiencia computacional.\n"
      ],
      "metadata": {
        "id": "aIsihzP-cOc1"
      }
    },
    {
      "cell_type": "markdown",
      "source": [
        "## Punto 2 – Cálculo de la Transformada de Fourier (Directa)\n",
        "\n",
        "Se calculará la función de densidad espectral (transformada de Fourier) para las siguientes señales, usando SymPy:\n",
        "\n",
        "a) $e^{-a|t|} $\n",
        "\n",
        "b)  $cos(w_c t)$\n",
        "\n",
        "c) $sin(w_s t)$\n",
        "\n",
        "d) $f(t) \\cos(w_c t)$\n",
        "\n",
        "e) $e^{-a|t|} * f(t)$\n",
        "\n",
        "---\n"
      ],
      "metadata": {
        "id": "B4hmHvnmTYtx"
      }
    },
    {
      "cell_type": "code",
      "source": [
        "import sympy as sp\n",
        "from sympy.integrals.transforms import fourier_transform\n",
        "from sympy.abc import t, w, a, tau\n",
        "\n",
        "# Define wc and ws as symbols\n",
        "wc, ws = sp.symbols('wc ws')\n",
        "\n",
        "sp.init_printing()\n",
        "\n",
        "f1 = sp.exp(-a * sp.Abs(t))\n",
        "F1 = fourier_transform(f1, t, w)\n",
        "F1.simplify()"
      ],
      "metadata": {
        "colab": {
          "base_uri": "https://localhost:8080/",
          "height": 47
        },
        "id": "6rU3u0-HUkn2",
        "outputId": "fe9ebc0b-d275-438a-8662-95b785917219"
      },
      "execution_count": null,
      "outputs": [
        {
          "output_type": "execute_result",
          "data": {
            "text/plain": [
              "                ⎛ -a⋅│t│      ⎞\n",
              "FourierTransform⎝ℯ      , t, w⎠"
            ],
            "text/latex": "$\\displaystyle \\mathcal{F}_{t}\\left[e^{- a \\left|{t}\\right|}\\right]\\left(w\\right)$"
          },
          "metadata": {},
          "execution_count": 6
        }
      ]
    },
    {
      "cell_type": "code",
      "source": [
        "f2 = sp.cos(wc * t)\n",
        "F2 = fourier_transform(f2, t, w)\n",
        "F2.simplify()"
      ],
      "metadata": {
        "colab": {
          "base_uri": "https://localhost:8080/",
          "height": 38
        },
        "id": "nc0oDXBlVyb3",
        "outputId": "535c0ff2-6c35-40b8-fcfd-e43f72e6023c"
      },
      "execution_count": null,
      "outputs": [
        {
          "output_type": "execute_result",
          "data": {
            "text/plain": [
              "FourierTransform(cos(t⋅wc), t, w)"
            ],
            "text/latex": "$\\displaystyle \\mathcal{F}_{t}\\left[\\cos{\\left(t wc \\right)}\\right]\\left(w\\right)$"
          },
          "metadata": {},
          "execution_count": 7
        }
      ]
    },
    {
      "cell_type": "code",
      "source": [
        "f3 = sp.sin(ws * t)\n",
        "F3 = fourier_transform(f3, t, w)\n",
        "F3.simplify()"
      ],
      "metadata": {
        "colab": {
          "base_uri": "https://localhost:8080/",
          "height": 38
        },
        "id": "1kLNVPcCVzgi",
        "outputId": "4b58518c-f51a-4b2f-fd6d-74808186a270"
      },
      "execution_count": null,
      "outputs": [
        {
          "output_type": "execute_result",
          "data": {
            "text/plain": [
              "FourierTransform(sin(t⋅ws), t, w)"
            ],
            "text/latex": "$\\displaystyle \\mathcal{F}_{t}\\left[\\sin{\\left(t ws \\right)}\\right]\\left(w\\right)$"
          },
          "metadata": {},
          "execution_count": 8
        }
      ]
    },
    {
      "cell_type": "code",
      "source": [
        "f4 = sp.exp(-a * sp.Abs(t)) * sp.cos(wc * t)\n",
        "F4 = fourier_transform(f4, t, w)\n",
        "F4.simplify()"
      ],
      "metadata": {
        "colab": {
          "base_uri": "https://localhost:8080/",
          "height": 47
        },
        "id": "poaXiFCvV13D",
        "outputId": "87869856-e3f5-4c50-abdf-a108805b0941"
      },
      "execution_count": null,
      "outputs": [
        {
          "output_type": "execute_result",
          "data": {
            "text/plain": [
              "                ⎛ -a⋅│t│                ⎞\n",
              "FourierTransform⎝ℯ      ⋅cos(t⋅wc), t, w⎠"
            ],
            "text/latex": "$\\displaystyle \\mathcal{F}_{t}\\left[e^{- a \\left|{t}\\right|} \\cos{\\left(t wc \\right)}\\right]\\left(w\\right)$"
          },
          "metadata": {},
          "execution_count": 9
        }
      ]
    },
    {
      "cell_type": "code",
      "source": [
        "f_conv = sp.exp(-a * sp.Abs(tau))\n",
        "g_conv = sp.exp(-a * sp.Abs(t - tau))\n",
        "\n",
        "conv = sp.integrate(f_conv * g_conv, (tau, -sp.oo, sp.oo))\n",
        "conv.simplify()\n",
        "\n"
      ],
      "metadata": {
        "colab": {
          "base_uri": "https://localhost:8080/",
          "height": 78
        },
        "id": "vowjd0LMV4kI",
        "outputId": "d32a4d7f-8269-430b-fc2a-54f191db6018"
      },
      "execution_count": null,
      "outputs": [
        {
          "output_type": "execute_result",
          "data": {
            "text/plain": [
              "∞                        \n",
              "⌠                        \n",
              "⎮   a⋅(-│τ│ - │t - τ│)   \n",
              "⎮  ℯ                   dτ\n",
              "⌡                        \n",
              "-∞                       "
            ],
            "text/latex": "$\\displaystyle \\int\\limits_{-\\infty}^{\\infty} e^{a \\left(- \\left|{\\tau}\\right| - \\left|{t - \\tau}\\right|\\right)}\\, d\\tau$"
          },
          "metadata": {},
          "execution_count": 11
        }
      ]
    },
    {
      "cell_type": "code",
      "source": [
        "F_conv = fourier_transform(conv, t, w)\n",
        "F_conv.simplify()"
      ],
      "metadata": {
        "colab": {
          "base_uri": "https://localhost:8080/",
          "height": 79
        },
        "id": "FnjJTt7XWOyc",
        "outputId": "a8afa907-4b3f-4559-ae5e-a5a27b23ed54"
      },
      "execution_count": null,
      "outputs": [
        {
          "output_type": "execute_result",
          "data": {
            "text/plain": [
              "                ⎛∞                              ⎞\n",
              "                ⎜⌠                              ⎟\n",
              "                ⎜⎮   -a⋅│τ│ - a⋅│t - τ│         ⎟\n",
              "FourierTransform⎜⎮  ℯ                   dτ, t, w⎟\n",
              "                ⎜⌡                              ⎟\n",
              "                ⎝-∞                             ⎠"
            ],
            "text/latex": "$\\displaystyle \\mathcal{F}_{t}\\left[\\int\\limits_{-\\infty}^{\\infty} e^{- a \\left|{\\tau}\\right| - a \\left|{t - \\tau}\\right|}\\, d\\tau\\right]\\left(w\\right)$"
          },
          "metadata": {},
          "execution_count": 12
        }
      ]
    },
    {
      "cell_type": "markdown",
      "source": [
        "## Punto 3 – Aplicación de Propiedades de la Transformada de Fourier\n",
        "\n",
        "Se resolverán las siguientes transformadas usando propiedades y no integración directa. Se usó de la tabla de propiedades y se verificará simbólicamente con `SymPy`.\n",
        "\n",
        "Expresiones:\n",
        "\n",
        "a) $\\mathscr{F} \\left\\{ e^{-j w_1 t} \\cos(w_c t) \\right\\}$\n",
        "\n",
        "b) $\\mathscr{F} \\left\\{ t u(t) \\cos^2(w_c t) \\right\\} $\n",
        "\n",
        "c) $\\mathscr{F} \\left\\{ \\frac{1}{(t^2 + 9)(t^2 + 4)} \\right\\}$\n",
        "\n",
        "d) $\\mathscr{F} \\left\\{ t^3 \\right\\}$\n",
        "\n",
        "e) $\\sum_{n=-\\infty}^{\\infty} \\left( \\frac{1}{a^2 + (t - nT)^2} \\right)$\n"
      ],
      "metadata": {
        "id": "LqC34xgCYsrM"
      }
    },
    {
      "cell_type": "code",
      "source": [
        "import sympy as sp\n",
        "from sympy.abc import t, w, a, T, n, tau\n",
        "from sympy import Heaviside, cos, sin, exp, simplify, Eq, fourier_transform, Function, Sum, pi, oo, init_printing\n",
        "\n",
        "init_printing()\n",
        "# Define w1 as a symbol using sp.symbols()\n",
        "w1 = sp.symbols('w1')"
      ],
      "metadata": {
        "id": "1fBwp1OVZr_v"
      },
      "execution_count": null,
      "outputs": []
    },
    {
      "cell_type": "code",
      "source": [
        "f = cos(wc * t)\n",
        "F = fourier_transform(f, t, w)\n",
        "F_shifted = F.subs(w, w + w1)\n",
        "display(Eq(Function('F_a')(w), simplify(F_shifted)))\n"
      ],
      "metadata": {
        "colab": {
          "base_uri": "https://localhost:8080/",
          "height": 38
        },
        "id": "McUlbRRDaAdo",
        "outputId": "55082907-5417-4301-93fe-593cd95d8457"
      },
      "execution_count": null,
      "outputs": [
        {
          "output_type": "display_data",
          "data": {
            "text/plain": [
              "Fₐ(w) = FourierTransform(cos(t⋅wc), t, w + w₁)"
            ],
            "text/latex": "$\\displaystyle F_{a}{\\left(w \\right)} = \\mathcal{F}_{t}\\left[\\cos{\\left(t wc \\right)}\\right]\\left(w + w_{1}\\right)$"
          },
          "metadata": {}
        }
      ]
    },
    {
      "cell_type": "code",
      "source": [
        "u = Heaviside(t)\n",
        "f_b = t * u * (1 + cos(2 * wc * t)) / 2\n",
        "F_b = fourier_transform(f_b, t, w)\n",
        "display(Eq(Function('F_b')(w), simplify(F_b)))\n"
      ],
      "metadata": {
        "colab": {
          "base_uri": "https://localhost:8080/",
          "height": 53
        },
        "id": "9ZL9UBICaEEK",
        "outputId": "5cb9aac5-52a9-4fd6-e9fc-da4b9e4c95fc"
      },
      "execution_count": null,
      "outputs": [
        {
          "output_type": "display_data",
          "data": {
            "text/plain": [
              "         FourierTransform(t⋅θ(t), t, w)   FourierTransform(t⋅cos(2⋅t⋅wc)⋅θ(t), ↪\n",
              "F_b(w) = ────────────────────────────── + ──────────────────────────────────── ↪\n",
              "                       2                                      2                ↪\n",
              "\n",
              "↪  t, w)\n",
              "↪ ──────\n",
              "↪       "
            ],
            "text/latex": "$\\displaystyle F_{b}{\\left(w \\right)} = \\frac{\\mathcal{F}_{t}\\left[t \\theta\\left(t\\right)\\right]\\left(w\\right)}{2} + \\frac{\\mathcal{F}_{t}\\left[t \\cos{\\left(2 t wc \\right)} \\theta\\left(t\\right)\\right]\\left(w\\right)}{2}$"
          },
          "metadata": {}
        }
      ]
    },
    {
      "cell_type": "code",
      "source": [
        "f_c = 1 / ((t**2 + 9) * (t**2 + 4))\n",
        "F_c = fourier_transform(f_c, t, w)\n",
        "display(Eq(Function('F_c')(w), simplify(F_c)))\n"
      ],
      "metadata": {
        "colab": {
          "base_uri": "https://localhost:8080/",
          "height": 58
        },
        "id": "AEJH_xGsaJOm",
        "outputId": "91661977-4411-48ef-fbd4-0217fdbb5af4"
      },
      "execution_count": null,
      "outputs": [
        {
          "output_type": "display_data",
          "data": {
            "text/plain": [
              "                         ⎛       1             ⎞\n",
              "F_c(w) = FourierTransform⎜───────────────, t, w⎟\n",
              "                         ⎜ 4       2           ⎟\n",
              "                         ⎝t  + 13⋅t  + 36      ⎠"
            ],
            "text/latex": "$\\displaystyle F_{c}{\\left(w \\right)} = \\mathcal{F}_{t}\\left[\\frac{1}{t^{4} + 13 t^{2} + 36}\\right]\\left(w\\right)$"
          },
          "metadata": {}
        }
      ]
    },
    {
      "cell_type": "code",
      "source": [
        "f_d = t**3\n",
        "F_d = fourier_transform(f_d, t, w)\n",
        "display(Eq(Function('F_d')(w), simplify(F_d)))\n"
      ],
      "metadata": {
        "colab": {
          "base_uri": "https://localhost:8080/",
          "height": 38
        },
        "id": "g8UmO8hUaMym",
        "outputId": "a5eed00b-9db8-493a-ddcc-f842818080df"
      },
      "execution_count": null,
      "outputs": [
        {
          "output_type": "display_data",
          "data": {
            "text/plain": [
              "                         ⎛ 3      ⎞\n",
              "F_d(w) = FourierTransform⎝t , t, w⎠"
            ],
            "text/latex": "$\\displaystyle F_{d}{\\left(w \\right)} = \\mathcal{F}_{t}\\left[t^{3}\\right]\\left(w\\right)$"
          },
          "metadata": {}
        }
      ]
    },
    {
      "cell_type": "code",
      "source": [
        "single_pulse = 1 / (a**2 + (t - n * T)**2)\n",
        "series_sum = Sum(single_pulse, (n, -oo, oo))\n",
        "display(Eq(Function('f_e')(t), series_sum))\n",
        "\n",
        "# O si se desea calcular la transformada simbólica (aunque converge débilmente):\n",
        "# F_e = fourier_transform(series_sum, t, w)\n",
        "# display(F_e)\n"
      ],
      "metadata": {
        "colab": {
          "base_uri": "https://localhost:8080/",
          "height": 67
        },
        "id": "HR5wqFTQaP8x",
        "outputId": "82863872-511d-4fc6-b93d-ac2a5f24432c"
      },
      "execution_count": null,
      "outputs": [
        {
          "output_type": "display_data",
          "data": {
            "text/plain": [
              "          ∞                    \n",
              "         ____                  \n",
              "         ╲                     \n",
              "          ╲           1        \n",
              "           ╲   ────────────────\n",
              "fₑ(t) =    ╱    2             2\n",
              "          ╱    a  + (-T⋅n + t) \n",
              "         ╱                     \n",
              "         ‾‾‾‾                  \n",
              "        n = -∞                 "
            ],
            "text/latex": "$\\displaystyle f_{e}{\\left(t \\right)} = \\sum_{n=-\\infty}^{\\infty} \\frac{1}{a^{2} + \\left(- T n + t\\right)^{2}}$"
          },
          "metadata": {}
        }
      ]
    },
    {
      "cell_type": "markdown",
      "source": [
        "## Punto 4 - Modulación por amplitud con detección coherente\n",
        "* La modulación por amplitud (AM) es un proceso mediante el cual una señal de mensaje (baja frecuencia) modula la amplitud de una señal portadora (alta frecuencia). En la detección coherente, también conocida como demodulación coherente, se requiere una señal portadora en el receptor sincronizada en frecuencia y fase con la señal portadora original del transmisor. Esto permite recuperar la señal original multiplicando la señal AM por una copia de la portadora y aplicando un filtro pasa bajas."
      ],
      "metadata": {
        "id": "gq9yYoEwcLPP"
      }
    },
    {
      "cell_type": "code",
      "source": [
        "import numpy as np\n",
        "import matplotlib.pyplot as plt\n",
        "from scipy.fft import rfft, rfftfreq\n",
        "\n",
        "# Parámetros\n",
        "fs = 10000  # Frecuencia de muestreo\n",
        "t = np.linspace(0, 1, fs, endpoint=False)  # Tiempo\n",
        "fc = 1000  # Frecuencia portadora\n",
        "Ac = 1     # Amplitud de la portadora\n",
        "ka = float(input(\"Ingrese el índice de modulación (ka): \"))  # Índice de modulación\n",
        "\n",
        "# Señal mensaje 1: pulso rectangular\n",
        "m1 = np.zeros_like(t)\n",
        "m1[(t >= 0.2) & (t < 0.4)] = 1  # pulso entre 0.2s y 0.4s\n",
        "\n",
        "# Señal mensaje 2: coseno\n",
        "fm = 50\n",
        "m2 = np.cos(2 * np.pi * fm * t)\n",
        "\n",
        "# Señales moduladas\n",
        "s1 = Ac * (1 + ka * m1) * np.cos(2 * np.pi * fc * t)\n",
        "s2 = Ac * (1 + ka * m2) * np.cos(2 * np.pi * fc * t)\n",
        "\n",
        "# Función para graficar tiempo y espectro\n",
        "def plot_signal_and_spectrum(t, signal, title):\n",
        "    N = len(signal)\n",
        "    yf = rfft(signal)\n",
        "    xf = rfftfreq(N, 1/fs)\n",
        "\n",
        "    plt.figure(figsize=(12, 5))\n",
        "\n",
        "    plt.subplot(1, 2, 1)\n",
        "    plt.plot(t, signal)\n",
        "    plt.title(f'{title} - Tiempo')\n",
        "    plt.xlabel('Tiempo [s]')\n",
        "    plt.ylabel('Amplitud')\n",
        "\n",
        "    plt.subplot(1, 2, 2)\n",
        "    plt.plot(xf, np.abs(yf))\n",
        "    plt.title(f'{title} - Espectro (módulo)')\n",
        "    plt.xlabel('Frecuencia [Hz]')\n",
        "    plt.ylabel('|Espectro|')\n",
        "    plt.tight_layout()\n",
        "    plt.show()\n",
        "\n",
        "# Mostrar resultados\n",
        "plot_signal_and_spectrum(t, s1, 'AM con pulso rectangular')\n",
        "plot_signal_and_spectrum(t, s2, 'AM con coseno')\n"
      ],
      "metadata": {
        "colab": {
          "base_uri": "https://localhost:8080/",
          "height": 1000
        },
        "id": "hZZk3QS6dg06",
        "outputId": "9bf90c93-6bc5-4dec-b43a-3d187d4a4210"
      },
      "execution_count": 3,
      "outputs": [
        {
          "name": "stdout",
          "output_type": "stream",
          "text": [
            "Ingrese el índice de modulación (ka): 2\n"
          ]
        },
        {
          "output_type": "display_data",
          "data": {
            "text/plain": [
              "<Figure size 1200x500 with 2 Axes>"
            ],
            "image/png": "[encoded data removed]"
          },
          "metadata": {}
        },
        {
          "output_type": "display_data",
          "data": {
            "text/plain": [
              "<Figure size 1200x500 with 2 Axes>"
            ],
            "image/png": "[encoded data removed]"
          },
          "metadata": {}
        }
      ]
    }
  ]
}