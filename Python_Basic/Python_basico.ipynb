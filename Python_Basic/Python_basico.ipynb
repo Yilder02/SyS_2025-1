{
  "nbformat": 4,
  "nbformat_minor": 0,
  "metadata": {
    "colab": {
      "provenance": [],
      "authorship_tag": "ABX9TyMtsYdCiq6LmeIV4NnedKf2",
      "include_colab_link": true
    },
    "kernelspec": {
      "name": "python3",
      "display_name": "Python 3"
    },
    "language_info": {
      "name": "python"
    }
  },
  "cells": [
    {
      "cell_type": "markdown",
      "metadata": {
        "id": "view-in-github",
        "colab_type": "text"
      },
      "source": [
        "<a href=\"https://colab.research.google.com/github/Yilder02/SyS_2025-1/blob/main/Python_Basic/Python_basico.ipynb\" target=\"_parent\"><img src=\"https://colab.research.google.com/assets/colab-badge.svg\" alt=\"Open In Colab\"/></a>"
      ]
    },
    {
      "cell_type": "markdown",
      "source": [
        "# EJERCICIOS DE PYTHON BASICO\n",
        "#1. VARIABLES\n",
        "\n",
        "\n",
        "1.   Escribe un programa que muestre en pantalla el resultado de la siguiente operación aritmética:\n",
        "$x(t) = \\left( \\frac{3 + 2}{2.5} \\right)^2$\n",
        "\n"
      ],
      "metadata": {
        "id": "1UclFq9MYC5b"
      }
    },
    {
      "cell_type": "code",
      "execution_count": 1,
      "metadata": {
        "colab": {
          "base_uri": "https://localhost:8080/"
        },
        "id": "6RKpF0pwXmSr",
        "outputId": "22433f1c-b753-4dd9-f540-cd2ad5cf10c6"
      },
      "outputs": [
        {
          "output_type": "stream",
          "name": "stdout",
          "text": [
            "4.0\n"
          ]
        }
      ],
      "source": [
        "x=((3+2)/2.5)**2\n",
        "print(x)"
      ]
    },
    {
      "cell_type": "markdown",
      "source": [
        "\n",
        "\n",
        "2.   Escribe un programa que le pida al usuario el número de horas trabajadas y la tarifa por hora. Luego, debe mostrar en pantalla el pago correspondiente.\n",
        "\n",
        "\n",
        "\n"
      ],
      "metadata": {
        "id": "TnBjv4_eYDmI"
      }
    },
    {
      "cell_type": "code",
      "source": [
        "h= input(\"¿cuantas horas ha trabajado?: \")\n",
        "h=float(h)\n",
        "t=input(\"¿Cuanto es la tarifa por hora?: \")\n",
        "t=float(t)\n",
        "s=h*t\n",
        "print(s)\n"
      ],
      "metadata": {
        "colab": {
          "base_uri": "https://localhost:8080/"
        },
        "id": "-9ahHmr6YEIy",
        "outputId": "6c2ba45b-b693-476e-c016-0a3e5781878d"
      },
      "execution_count": 2,
      "outputs": [
        {
          "output_type": "stream",
          "name": "stdout",
          "text": [
            "¿cuantas horas ha trabajado?: 8\n",
            "¿Cuanto es la tarifa por hora?: 6000\n",
            "48000.0\n"
          ]
        }
      ]
    },
    {
      "cell_type": "markdown",
      "source": [
        "3. Escribe un programa que le pida al usuario su peso (en kilogramos) y su altura (en metros), calcule el índice de masa corporal (IMC), lo almacene en una variable y muestre en pantalla el mensaje \"Su índice de masa corporal es imc\", donde imc es el IMC calculado redondeado a dos cifras decimales."
      ],
      "metadata": {
        "id": "almqFz-VaB9i"
      }
    },
    {
      "cell_type": "code",
      "source": [
        "p= input(\"Ingrese su peso (kg): \")\n",
        "p=float(p)\n",
        "a=input(\"Ingrese su altura (m): \")\n",
        "a=float(a)\n",
        "c=(p/((a)**2))\n",
        "imc=round(c,2)\n",
        "print(\"Su indice de masa corporal es: \",imc)"
      ],
      "metadata": {
        "colab": {
          "base_uri": "https://localhost:8080/"
        },
        "id": "AM3OcANZaGj4",
        "outputId": "7438fabc-3df7-4da7-942d-a26e00f3210a"
      },
      "execution_count": 3,
      "outputs": [
        {
          "output_type": "stream",
          "name": "stdout",
          "text": [
            "Ingrese su peso (kg): 58\n",
            "Ingrese su altura (m): 1.67\n",
            "Su indice de masa corporal es:  20.8\n"
          ]
        }
      ]
    },
    {
      "cell_type": "markdown",
      "source": [
        "#2. CONDICIONALES\n",
        "1. Para poder pagar un determinado impuesto es necesario ser mayor de 16 años y disponer de unos ingresos mensuales iguales o superiores a 1000€.\n",
        "Escriba un programa que le pregunte al usuario su edad e ingresos mensuales, y muestre si el usuario tiene que pagar el impuesto o no."
      ],
      "metadata": {
        "id": "Hxz_iCGPaWAR"
      }
    },
    {
      "cell_type": "code",
      "source": [
        "ed=input(\"Ingrese su edad: \" )\n",
        "ed=int(ed)\n",
        "ing=input(\"Escriba sus ingresos mensuales (€): \")\n",
        "ing=float(ing)\n",
        "\n",
        "if ed>16 and ing>=1000:\n",
        "  print(\"El usuario debe pagar el impuesto\")\n",
        "else:\n",
        " print(\"El usuario NO debe pagar el impuesto\")"
      ],
      "metadata": {
        "colab": {
          "base_uri": "https://localhost:8080/"
        },
        "id": "cCacvhpianHp",
        "outputId": "714e904d-c654-4468-b60b-cf9d17440bd9"
      },
      "execution_count": 4,
      "outputs": [
        {
          "output_type": "stream",
          "name": "stdout",
          "text": [
            "Ingrese su edad: 24\n",
            "Escriba sus ingresos mensuales (€): 45000\n",
            "El usuario debe pagar el impuesto\n"
          ]
        }
      ]
    },
    {
      "cell_type": "markdown",
      "source": [
        "2. La pizzería Bella Napoli ofrece pizzas vegetarianas y no vegetarianas a sus clientes. Los ingredientes para cada tipo de pizza son los siguientes:\n",
        "Ingredientes vegetarianos: pimientos y tofu.\n",
        "Ingredientes no vegetarianos: pepperoni, jamón y salmón.\n",
        "Escriba un programa que le pregunte al usuario si quiere una pizza vegetariana o no y, en función de su respuesta, muestre un menú con los ingredientes disponibles para que elija.\n",
        "Solo se puede elegir un ingrediente adicional además de la mozzarella y el tomate, que se incluyen en todas las pizzas.\n",
        "Finalmente, el programa debe mostrar si la pizza elegida es vegetariana o no, junto con todos los ingredientes que contiene."
      ],
      "metadata": {
        "id": "Otagtrfca5lp"
      }
    },
    {
      "cell_type": "code",
      "source": [
        "pi=input(\"¿Quiere una pizza vegetariana?.Escriba 0 si su respuesta es afirmativa \")\n",
        "pi=int(pi)\n",
        "if pi==0:\n",
        "  print(\"Para su pizza vegetariana puede elegir pimiento o tofu\")\n",
        "else:\n",
        "  print(\"Para su pizza puede elegir pepperoni, jamon o salmón\")\n",
        "\n",
        "print(\"Todas la pizzas llevan mozzarella y tomate, ademas del ingrediene adicional que desee\")\n",
        "\n",
        "\n",
        "if pi==0:\n",
        "  ing=input(\"Ingrese el adicional que desee, recuerde que solo puede elegir pimiento o tofu\")\n",
        "  ing=str(ing)\n",
        "  print(\"la pizza elegida es vegetariana y contiene mozzarella, tomate y \",ing)\n",
        "else:\n",
        "  ing=input(\"Ingrese el adicional que desee, recuerde que solo puede elegir pepperoni, jamon o salmon\")\n",
        "  ing=str(ing)\n",
        "  print(\"Su pizza elegida no es vegetariana y contiene mozzarella,tomate y \",ing)\n"
      ],
      "metadata": {
        "colab": {
          "base_uri": "https://localhost:8080/"
        },
        "id": "UxnrsZ-6bEnl",
        "outputId": "eca851c6-d783-47b9-89d5-a7bc3be6a3dd"
      },
      "execution_count": 5,
      "outputs": [
        {
          "output_type": "stream",
          "name": "stdout",
          "text": [
            "¿Quiere una pizza vegetariana?.Escriba 0 si su respuesta es afirmativa 0\n",
            "Para su pizza vegetariana puede elegir pimiento o tofu\n",
            "Todas la pizzas llevan mozzarella y tomate, ademas del ingrediene adicional que desee\n",
            "Ingrese el adicional que desee, recuerde que solo puede elegir pimiento o tofutofu\n",
            "la pizza elegida es vegetariana y contiene mozzarella, tomate y  tofu\n"
          ]
        }
      ]
    },
    {
      "cell_type": "markdown",
      "source": [
        "#  3. Bucles\n",
        "1. Escriba un código que le pida al usuario que ingrese un número entero cada vez,\n",
        "y el proceso se repetirá con más números hasta que el usuario ingrese un cero.\n",
        "Al final (cuando se ingresa el cero), muestra la cantidad de números ingresados."
      ],
      "metadata": {
        "id": "8aBO1CA_bY0j"
      }
    },
    {
      "cell_type": "code",
      "source": [
        "num=input(\"Ingrese un numero entero: \")\n",
        "num=int(num)\n",
        "conNum=0\n",
        "while num!=0:\n",
        "  num=input(\"Ingrese un numero entero: \")\n",
        "  num=int(num)\n",
        "  conNum=conNum+1\n",
        "\n",
        "print(\"La cantidad de numeros ingresados fue:\",conNum)"
      ],
      "metadata": {
        "colab": {
          "base_uri": "https://localhost:8080/"
        },
        "id": "nRINYM3Ybp1W",
        "outputId": "b3cd0bb7-7b17-4f49-d1d0-2682bbcff9bc"
      },
      "execution_count": 6,
      "outputs": [
        {
          "output_type": "stream",
          "name": "stdout",
          "text": [
            "Ingrese un numero entero: 4\n",
            "Ingrese un numero entero: 5\n",
            "Ingrese un numero entero: 2\n",
            "Ingrese un numero entero: 4\n",
            "Ingrese un numero entero: 3\n",
            "Ingrese un numero entero: 1\n",
            "Ingrese un numero entero: 0\n",
            "La cantidad de numeros ingresados fue: 6\n"
          ]
        }
      ]
    },
    {
      "cell_type": "markdown",
      "source": [
        "2. Use la función input() para pedirle al usuario que ingrese un número entero.\n",
        "Solo si el número es par, se acumulará.\n",
        "El programa debe finalizar si la suma de los números supera los 50 o si el usuario ingresa un máximo de 10 números."
      ],
      "metadata": {
        "id": "CzqdwTf0byRe"
      }
    },
    {
      "cell_type": "code",
      "source": [
        "sump=0\n",
        "sum=0\n",
        "i=0\n",
        "while sum<50 and i<10:\n",
        "  i=i+1\n",
        "  ent=input(\"Ingrese un numero entero: \")\n",
        "  ent=int(ent)\n",
        "  sum=sum+ent\n",
        "  #print(sum)\n",
        "  if (ent % 2==0):\n",
        "   sump=sump+ent\n",
        "\n",
        "print(\"\",sum,sump,i)"
      ],
      "metadata": {
        "colab": {
          "base_uri": "https://localhost:8080/"
        },
        "id": "_bRxaXAocJ93",
        "outputId": "158d8b4e-b981-4257-d768-d301559f7e7c"
      },
      "execution_count": 10,
      "outputs": [
        {
          "output_type": "stream",
          "name": "stdout",
          "text": [
            "Ingrese un numero entero: 5\n",
            "Ingrese un numero entero: 5\n",
            "Ingrese un numero entero: 3\n",
            "Ingrese un numero entero: 7\n",
            "Ingrese un numero entero: 5\n",
            "Ingrese un numero entero: 42\n",
            " 67 42 6\n"
          ]
        }
      ]
    },
    {
      "cell_type": "markdown",
      "source": [
        "#4. IntroNumpy\n",
        "* ¿Qué es NumPy?:\n",
        "NumPy (Numerical Python) es una biblioteca fundamental para computación científica en Python. Proporciona estructuras de datos eficientes y funciones para el manejo de arrays y matrices, además de herramientas matemáticas de alto nivel.\n",
        "\n",
        "* ¿Qué es un array?:\n",
        "Un array en NumPy es una estructura de datos similar a una lista, pero optimizada para operaciones matemáticas. Puede ser:\n",
        "\n",
        "- Unidimensional (como un vector).\n",
        "\n",
        "- Bidimensional (como una matriz)."
      ],
      "metadata": {
        "id": "LEFqa7jUcd1x"
      }
    },
    {
      "cell_type": "code",
      "source": [
        "# 2 EJEMPLOS\n",
        "import numpy as np #Importar libreria\n",
        "\n",
        "# Crear dos vectores\n",
        "a = np.array([1, 2, 3])\n",
        "b = np.array([4, 5, 6])\n",
        "\n",
        "# Operaciones básicas\n",
        "suma = a + b\n",
        "resta = a - b\n",
        "producto_punto = np.dot(a, b)\n",
        "\n",
        "# Mostrar resultados\n",
        "print(\"Vector a:\", a)\n",
        "print(\"Vector b:\", b)\n",
        "print(\"Suma:\", suma)\n",
        "print(\"Resta:\", resta)\n",
        "print(\"Producto punto:\", producto_punto)\n"
      ],
      "metadata": {
        "colab": {
          "base_uri": "https://localhost:8080/"
        },
        "id": "IuIaTQM_d37B",
        "outputId": "eb418db9-06fb-491f-ecd5-da9eb6a29c22"
      },
      "execution_count": 30,
      "outputs": [
        {
          "output_type": "stream",
          "name": "stdout",
          "text": [
            "Vector a: [1 2 3]\n",
            "Vector b: [4 5 6]\n",
            "Suma: [5 7 9]\n",
            "Resta: [-3 -3 -3]\n",
            "Producto punto: 32\n"
          ]
        }
      ]
    },
    {
      "cell_type": "code",
      "source": [
        "import numpy as np\n",
        "\n",
        "# Crear dos matrices 2x2\n",
        "A = np.array([[1, 2], [3, 4]])\n",
        "B = np.array([[5, 6], [7, 8]])\n",
        "#cada lista de números es tratada como una fila de las matrices A y B\n",
        "# Suma de matrices\n",
        "suma = A + B\n",
        "\n",
        "# Producto matricial\n",
        "producto = np.dot(A, B)\n",
        "\n",
        "# Mostrar resultados\n",
        "print(\"Matriz A:\\n\", A)\n",
        "print(\"Matriz B:\\n\", B)\n",
        "print(\"Suma de A y B:\\n\", suma)\n",
        "print(\"Producto de A y B:\\n\", producto)\n"
      ],
      "metadata": {
        "colab": {
          "base_uri": "https://localhost:8080/"
        },
        "id": "5dtYtZvzmAp2",
        "outputId": "43d7ac7d-edf0-41e3-94e8-7f1861b64ffa"
      },
      "execution_count": 31,
      "outputs": [
        {
          "output_type": "stream",
          "name": "stdout",
          "text": [
            "Matriz A:\n",
            " [[1 2]\n",
            " [3 4]]\n",
            "Matriz B:\n",
            " [[5 6]\n",
            " [7 8]]\n",
            "Suma de A y B:\n",
            " [[ 6  8]\n",
            " [10 12]]\n",
            "Producto de A y B:\n",
            " [[19 22]\n",
            " [43 50]]\n"
          ]
        }
      ]
    },
    {
      "cell_type": "markdown",
      "source": [
        "#5. FUNCIONES\n",
        "1. Crea una función que tome la longitud de los lados del triángulo y devuelva el área del triángulo, redondeada a un decimal.\n",
        "El módulo de matemáticas puede ayudarte a calcular la raíz cuadrada."
      ],
      "metadata": {
        "id": "86LIooR7d4Q7"
      }
    },
    {
      "cell_type": "code",
      "source": [
        "import math\n",
        "def a_tri(s1,s2,s3):\n",
        "  s=((s1+s2+s3)/2)\n",
        "  a=math.sqrt(s*(s-s1)*(s-s2)*(s-s3))\n",
        "  a=round(a,2)\n",
        "  print (\"El area del triangulo es de: \",a)"
      ],
      "metadata": {
        "id": "vgrcvndNeAZc"
      },
      "execution_count": 11,
      "outputs": []
    },
    {
      "cell_type": "code",
      "source": [
        "area= a_tri(10,12,3)\n",
        ""
      ],
      "metadata": {
        "colab": {
          "base_uri": "https://localhost:8080/"
        },
        "id": "QBGVRBWOeMjH",
        "outputId": "a2b50c6c-1405-4b19-cb94-469df7c4cea7"
      },
      "execution_count": 12,
      "outputs": [
        {
          "output_type": "stream",
          "name": "stdout",
          "text": [
            "El area del triangulo es de:  12.18\n"
          ]
        }
      ]
    },
    {
      "cell_type": "markdown",
      "source": [
        "2. Cree una función que pueda calcular el índice de masa corporal (IMC) de una persona.\n",
        "La fórmula para calcular el IMC es la siguiente:\n",
        "IMC = peso/(altura^2)"
      ],
      "metadata": {
        "id": "C0e6PR7_eEaW"
      }
    },
    {
      "cell_type": "code",
      "source": [
        "def IMC(p,a): #El usuario ingresa el peso en libras y la altura en pulgadas\n",
        "   p=p*0.45\n",
        "   a=a*0.025\n",
        "   imc=p/(a**2)\n",
        "   imc=round(imc,2)\n",
        "   print (\"Su IMC es de: \",imc)"
      ],
      "metadata": {
        "id": "QRr8i6B_eUNu"
      },
      "execution_count": 13,
      "outputs": []
    },
    {
      "cell_type": "code",
      "source": [
        "p=float(input(\"Ingrese su peso en libras: \"))\n",
        "a=float(input(\"Ingrese su altura en pulgadas: \"))\n",
        "mc= IMC(p,a)"
      ],
      "metadata": {
        "colab": {
          "base_uri": "https://localhost:8080/"
        },
        "id": "xdeVNVUveXyf",
        "outputId": "be435ba9-1d89-415b-88fc-557ba8448c58"
      },
      "execution_count": 14,
      "outputs": [
        {
          "output_type": "stream",
          "name": "stdout",
          "text": [
            "Ingrese su peso en libras: 35\n",
            "Ingrese su altura en pulgadas: 123\n",
            "Su IMC es de:  1.67\n"
          ]
        }
      ]
    },
    {
      "cell_type": "markdown",
      "source": [
        "#6. ESTRCUTURAS\n",
        "1. Escriba una función que tome una lista de números como entrada y devuelva la suma de todos los números impares de la lista.\n",
        "Por ejemplo, si la entrada es [1, 2, 3, 4, 5, 6],\n",
        "la función debería devolver 9 (que es la suma de 1, 3 y 5)."
      ],
      "metadata": {
        "id": "14UzOOA_edfP"
      }
    },
    {
      "cell_type": "code",
      "source": [
        "def sum(List):\n",
        "  sumImpar=0\n",
        "  for i in List:\n",
        "    if i%2!=0:\n",
        "      sumImpar+=i\n",
        "  print(\"La suma de los numeros impares de la lista ingresada es de: \", sumImpar)"
      ],
      "metadata": {
        "id": "Tb-Kwidxez-m"
      },
      "execution_count": 17,
      "outputs": []
    },
    {
      "cell_type": "code",
      "source": [
        "sum([1,2,3,4,5,6])\n",
        ""
      ],
      "metadata": {
        "colab": {
          "base_uri": "https://localhost:8080/"
        },
        "id": "AyhsNOA_e5aF",
        "outputId": "fc0d73b3-4a82-464a-a9d4-95b7d0f740e1"
      },
      "execution_count": 18,
      "outputs": [
        {
          "output_type": "stream",
          "name": "stdout",
          "text": [
            "La suma de los numeros impares de la lista ingresada es de:  9\n"
          ]
        }
      ]
    },
    {
      "cell_type": "markdown",
      "source": [
        "2. Escriba una función que tome una lista de palabras como entrada y devuelva un diccionario\n",
        "que cuente el número de veces que aparece cada palabra en la lista. Por ejemplo,\n",
        "si la entrada es ['manzana', 'plátano', 'manzana', 'cereza', 'cereza', 'cereza'],\n",
        "la función debería devolver {'manzana': 2, 'plátano': 1, 'cereza': 3}."
      ],
      "metadata": {
        "id": "YgZF2fvHe8Bi"
      }
    },
    {
      "cell_type": "code",
      "source": [
        "def contar_palabras(lista_palabras):\n",
        "    # Crear un diccionario vacío para almacenar las ocurrencias\n",
        "    contador = {}\n",
        "\n",
        "    # Recorrer la lista de palabras\n",
        "    for palabra in lista_palabras:\n",
        "        # Si la palabra ya está en el diccionario, aumentar su contador en 1\n",
        "        if palabra in contador:\n",
        "            contador[palabra] += 1\n",
        "        # Si la palabra no está en el diccionario, agregarla con un contador de 1\n",
        "        else:\n",
        "            contador[palabra] = 1\n",
        "\n",
        "    return contador"
      ],
      "metadata": {
        "id": "64WwT_omfDky"
      },
      "execution_count": 19,
      "outputs": []
    },
    {
      "cell_type": "code",
      "source": [
        "lista = ['manzana', 'plátano', 'manzana', 'cereza', 'cereza', 'cereza']\n",
        "resultado = contar_palabras(lista)\n",
        "print(resultado)"
      ],
      "metadata": {
        "colab": {
          "base_uri": "https://localhost:8080/"
        },
        "id": "LNfhGXYBfNSY",
        "outputId": "6a0a16db-2fa3-44fa-c751-227047d15bdd"
      },
      "execution_count": 20,
      "outputs": [
        {
          "output_type": "stream",
          "name": "stdout",
          "text": [
            "{'manzana': 2, 'plátano': 1, 'cereza': 3}\n"
          ]
        }
      ]
    },
    {
      "cell_type": "markdown",
      "source": [
        "#7. CLASES\n",
        "1. Crea una clase \"Persona\" que tenga atributos como nombre, edad, género y métodos para presentarse y saludar a otras personas."
      ],
      "metadata": {
        "id": "IzKrNe-ffRfL"
      }
    },
    {
      "cell_type": "code",
      "source": [
        "class Persona:\n",
        "  # Constructor de la clase\n",
        "  def __init__(self, nombre, edad ,genero):\n",
        "     self.nombre=nombre\n",
        "     self.edad= edad\n",
        "     self.genero=genero\n",
        "  # Método para presentarse\n",
        "  def presentarse(self):\n",
        "    print( f\"Hola, mi nombre es {self.nombre}, tengo {self.edad} años y soy {self.genero}.\")\n",
        "  # Método para saludar a otra persona\n",
        "  def saludar(self,otra_persona):\n",
        "     print( f\"Hola {otra_persona.nombre}, soy {self.nombre}. ¡Mucho gusto!\")"
      ],
      "metadata": {
        "id": "YtLWpX1mgX7B"
      },
      "execution_count": 21,
      "outputs": []
    },
    {
      "cell_type": "code",
      "source": [
        "#Ejemplo:\n",
        "persona1=Persona(\"Francisco\",25,\"hombre\")\n",
        "persona2=Persona(\"Alejandra\",28,\"mujer\")\n",
        "\n",
        "persona1.presentarse()\n",
        "persona2.presentarse()\n",
        "\n",
        "persona1.saludar(persona2)\n",
        "persona2.saludar(persona1)"
      ],
      "metadata": {
        "colab": {
          "base_uri": "https://localhost:8080/"
        },
        "id": "B1R7m4baga4r",
        "outputId": "57104830-0a48-4b21-cc8f-f0164e66d99a"
      },
      "execution_count": 22,
      "outputs": [
        {
          "output_type": "stream",
          "name": "stdout",
          "text": [
            "Hola, mi nombre es Francisco, tengo 25 años y soy hombre.\n",
            "Hola, mi nombre es Alejandra, tengo 28 años y soy mujer.\n",
            "Hola Alejandra, soy Francisco. ¡Mucho gusto!\n",
            "Hola Francisco, soy Alejandra. ¡Mucho gusto!\n"
          ]
        }
      ]
    },
    {
      "cell_type": "markdown",
      "source": [
        "2. Crea una clase \"Coche\" que tenga atributos como marca, modelo, año, kilometraje y métodos para arrancar, acelerar y frenar."
      ],
      "metadata": {
        "id": "5rNcg6gCgePw"
      }
    },
    {
      "cell_type": "code",
      "source": [
        "class Coche:\n",
        "  def __init__(self,marca,modelo,año,kilometraje):\n",
        "    self.marca=marca\n",
        "    self.modelo=modelo\n",
        "    self.año=año\n",
        "    self.kilometraje=kilometraje\n",
        "  #Metodo arrancar\n",
        "  def arrancar(self):\n",
        "   print(f\"El coche {self.marca} ha arrancado\")\n",
        "  #Metodo acelerar\n",
        "  def acelerar(self,velocidad):\n",
        "   print(f\"El coche a acelerado a una velocidad de {velocidad} km/h\")\n",
        "  #Metodo frenar\n",
        "  def frenar(self):\n",
        "   print(f\"El coche {self.marca} ha frenado\")"
      ],
      "metadata": {
        "id": "HIyq3mRTgitg"
      },
      "execution_count": 23,
      "outputs": []
    },
    {
      "cell_type": "code",
      "source": [
        "coche = Coche(\"Toyota\", \"Camry\", 2022, 1000)\n",
        "\n",
        "coche.arrancar()\n",
        "coche.acelerar(60)\n",
        "coche.frenar()"
      ],
      "metadata": {
        "colab": {
          "base_uri": "https://localhost:8080/"
        },
        "id": "NmUrP9aEgr_N",
        "outputId": "a45d69e8-65a4-4ab6-fd1c-ca388614cd94"
      },
      "execution_count": 24,
      "outputs": [
        {
          "output_type": "stream",
          "name": "stdout",
          "text": [
            "El coche Toyota ha arrancado\n",
            "El coche a acelerado a una velocidad de 60 km/h\n",
            "El coche Toyota ha frenado\n"
          ]
        }
      ]
    },
    {
      "cell_type": "markdown",
      "source": [
        "3. Crea una clase \"Rectángulo\" que tenga atributos como longitud y ancho y métodos para calcular el área y el perímetro."
      ],
      "metadata": {
        "id": "DYpelNAKgs5N"
      }
    },
    {
      "cell_type": "code",
      "source": [
        "class rectangulo:\n",
        "  def __init__(self,longitud,ancho):\n",
        "    self.longitud=longitud\n",
        "    self.ancho=ancho\n",
        "\n",
        "  def area(self):\n",
        "    a=self.longitud*self.ancho\n",
        "    print(f\"El area del rectangulo es {a}\")\n",
        "  def perimetro(self):\n",
        "    p=2*(self.longitud+self.ancho)\n",
        "    print(f\"El perimetro del rectangulo es {p}\")\n",
        "\n",
        "rectangulo1=rectangulo(5,10)\n",
        "rectangulo1.area()\n",
        "rectangulo1.perimetro()\n"
      ],
      "metadata": {
        "colab": {
          "base_uri": "https://localhost:8080/"
        },
        "id": "BM07PT4Xgwuc",
        "outputId": "5779bed3-599e-412f-8f91-60716f695750"
      },
      "execution_count": 25,
      "outputs": [
        {
          "output_type": "stream",
          "name": "stdout",
          "text": [
            "El area del rectangulo es 50\n",
            "El perimetro del rectangulo es 30\n"
          ]
        }
      ]
    },
    {
      "cell_type": "markdown",
      "source": [
        "4. Crea una clase \"Banco\" que tenga atributos como nombre, dirección y métodos para abrir una cuenta, depositar dinero, retirar dinero y revisar el saldo."
      ],
      "metadata": {
        "id": "vVQg6Wb0g3cG"
      }
    },
    {
      "cell_type": "code",
      "source": [
        "class Banco:\n",
        "    def __init__(self, nombre, direccion):\n",
        "        self.nombre = nombre\n",
        "        self.direccion = direccion\n",
        "        self.cuentas = {}  # Utilizamos un diccionario para almacenar las cuentas\n",
        "\n",
        "    def abrir_cuenta(self, cliente, saldo_inicial=0):\n",
        "        self.cuentas[cliente] = saldo_inicial\n",
        "        print( f\"Cuenta abierta para {cliente} en {self.nombre} con un saldo inicial de {saldo_inicial} dólares.\")\n",
        "\n",
        "    def depositar(self, cliente, cantidad):\n",
        "        self.cuentas[cliente] += cantidad\n",
        "        print (f\"{cliente}, has depositado {cantidad} dólares. Saldo actual: {self.cuentas[cliente]} dólares.\")\n",
        "\n",
        "    def retirar(self, cliente, cantidad):\n",
        "        if cantidad <= self.cuentas[cliente]:\n",
        "            self.cuentas[cliente] -= cantidad\n",
        "            print( f\"{cliente}, has retirado {cantidad} dólares. Saldo actual: {self.cuentas[cliente]} dólares.\")\n",
        "        else:\n",
        "            print (f\"{cliente}, saldo insuficiente para realizar el retiro.\")\n",
        "\n",
        "    def revisar_saldo(self, cliente):\n",
        "        print (f\"Saldo actual de {cliente}: {self.cuentas[cliente]} dólares.\")\n",
        "\n",
        "#Ejemplo\n",
        "mi_banco = Banco(\"Mi Banco\", \"Calle Principal, Ciudad\")\n",
        "\n",
        "mi_banco.abrir_cuenta(\"Cliente 1\", 1000)\n",
        "mi_banco.depositar(\"Cliente 1\", 500)\n",
        "mi_banco.retirar(\"Cliente 1\", 1499)\n",
        "mi_banco.revisar_saldo(\"Cliente 1\")\n"
      ],
      "metadata": {
        "colab": {
          "base_uri": "https://localhost:8080/"
        },
        "id": "p_NPTegHhDVR",
        "outputId": "c659c915-42a2-49cb-815f-fe9292fd07d2"
      },
      "execution_count": 26,
      "outputs": [
        {
          "output_type": "stream",
          "name": "stdout",
          "text": [
            "Cuenta abierta para Cliente 1 en Mi Banco con un saldo inicial de 1000 dólares.\n",
            "Cliente 1, has depositado 500 dólares. Saldo actual: 1500 dólares.\n",
            "Cliente 1, has retirado 1499 dólares. Saldo actual: 1 dólares.\n",
            "Saldo actual de Cliente 1: 1 dólares.\n"
          ]
        }
      ]
    },
    {
      "cell_type": "markdown",
      "source": [
        "5. Crea una clase \"Estudiante\" que tenga atributos como nombre, edad, promedio y\n",
        "métodos para estudiar, hacer tareas y presentar exámenes"
      ],
      "metadata": {
        "id": "yZ25xCHihKou"
      }
    },
    {
      "cell_type": "code",
      "source": [
        "class Estudiante:\n",
        "    def __init__(self, nombre, edad, promedio):\n",
        "        self.nombre = nombre\n",
        "        self.edad = edad\n",
        "        self.promedio = promedio\n",
        "\n",
        "    def estudiar(self, horas_estudio):\n",
        "        return f\"{self.nombre} está estudiando durante {horas_estudio} horas.\"\n",
        "\n",
        "    def hacer_tareas(self, horas_tareas):\n",
        "        return f\"{self.nombre} está haciendo tareas durante {horas_tareas} horas.\"\n",
        "\n",
        "    def presentar_examen(self):\n",
        "        if self.promedio >= 7.0:\n",
        "            return f\"{self.nombre} presentó el examen y aprobó con un promedio de {self.promedio}. ¡Felicidades!\"\n",
        "        else:\n",
        "            return f\"{self.nombre} presentó el examen pero no aprobó con un promedio de {self.promedio}. Deberá estudiar más.\"\n",
        "\n",
        "# Ejemplo\n",
        "estudiante1 = Estudiante(\"Juan\", 18, 8.5)\n",
        "estudiante2 = Estudiante(\"María\", 20, 6.0)\n",
        "\n",
        "print(estudiante1.estudiar(3))\n",
        "print(estudiante2.hacer_tareas(2))\n",
        "\n",
        "print(estudiante1.presentar_examen())\n",
        "print(estudiante2.presentar_examen())\n"
      ],
      "metadata": {
        "colab": {
          "base_uri": "https://localhost:8080/"
        },
        "id": "1cmcYbfkhQyR",
        "outputId": "6174675c-1363-4e23-dd78-30d6693fece5"
      },
      "execution_count": 27,
      "outputs": [
        {
          "output_type": "stream",
          "name": "stdout",
          "text": [
            "Juan está estudiando durante 3 horas.\n",
            "María está haciendo tareas durante 2 horas.\n",
            "Juan presentó el examen y aprobó con un promedio de 8.5. ¡Felicidades!\n",
            "María presentó el examen pero no aprobó con un promedio de 6.0. Deberá estudiar más.\n"
          ]
        }
      ]
    },
    {
      "cell_type": "markdown",
      "source": [
        "#8. HERENCIAS\n",
        "1. Crea un sistema de manejo de figuras geométricas utilizando clases y herencia. Debes tener una clase base llamada \"FiguraGeometrica\" con un método abstracto llamado \"calcular_area()\". Luego, crea clases derivadas para diferentes tipos de figuras geométricas, como \"Círculo\", \"Rectángulo\" y \"Triángulo\". Cada clase derivada debe implementar el método \"calcular_area()\" de acuerdo con la fórmula correspondiente para el cálculo del área de esa figura."
      ],
      "metadata": {
        "id": "OECdo7FThcqM"
      }
    },
    {
      "cell_type": "code",
      "source": [
        "import math\n",
        "\n",
        "# Definición de la clase base FiguraGeometrica\n",
        "class FiguraGeometrica:\n",
        "    def calcular_area(self):\n",
        "        pass\n",
        "\n",
        "# Clase derivada para círculos\n",
        "class Circulo(FiguraGeometrica):\n",
        "    def __init__(self, radio):\n",
        "        self.radio = radio\n",
        "\n",
        "    def calcular_area(self):\n",
        "        return round(math.pi * self.radio ** 2,2)\n",
        "\n",
        "# Clase derivada para rectángulos\n",
        "class Rectangulo(FiguraGeometrica):\n",
        "    def __init__(self, base, altura):\n",
        "        self.base = base\n",
        "        self.altura = altura\n",
        "\n",
        "    def calcular_area(self):\n",
        "        return self.base * self.altura\n",
        "# Clase derivada para triángulos\n",
        "class Triangulo(FiguraGeometrica):\n",
        "    def __init__(self, base, altura):\n",
        "        self.base = base\n",
        "        self.altura = altura\n",
        "\n",
        "    def calcular_area(self):\n",
        "        return 0.5 * self.base * self.altura\n",
        "\n",
        "# Ejemplo de uso\n",
        "circulo = Circulo(5)\n",
        "print(f\"Área del círculo: {circulo.calcular_area()}\")\n",
        "\n",
        "rectangulo = Rectangulo(4, 6)\n",
        "print(f\"Área del rectángulo: {rectangulo.calcular_area()}\")\n",
        "\n",
        "triangulo = Triangulo(3, 7)\n",
        "print(f\"Área del triángulo: {triangulo.calcular_area()}\")\n"
      ],
      "metadata": {
        "colab": {
          "base_uri": "https://localhost:8080/"
        },
        "id": "ZDJKxvH3hqhf",
        "outputId": "fe306d9e-c7f0-4a96-f02e-d48089bf0a95"
      },
      "execution_count": 28,
      "outputs": [
        {
          "output_type": "stream",
          "name": "stdout",
          "text": [
            "Área del círculo: 78.54\n",
            "Área del rectángulo: 24\n",
            "Área del triángulo: 10.5\n"
          ]
        }
      ]
    },
    {
      "cell_type": "markdown",
      "source": [
        "2. Crea un sistema de reserva de vuelos utilizando clases y herencia. Debes tener una clase base llamada \"Vuelo\" con los siguientes atributos: número de vuelo, origen, destino, y capacidad máxima de pasajeros. Luego, crea una clase derivada llamada \"VueloEconomico\" que herede de la clase base y agregue un atributo adicional llamado \"tarifa\". Además, agrega métodos en ambas clases para mostrar la información del vuelo y realizar una reserva de asientos.\n",
        "La clase base \"Vuelo\" debe tener un método para verificar si hay asientos disponibles y otro para realizar la reserva de un asiento. La clase derivada \"VueloEconomico\" puede tener métodos adicionales para calcular el precio total de la reserva de acuerdo con la tarifa y la cantidad de asientos reservados."
      ],
      "metadata": {
        "id": "LZn4dl45h1tz"
      }
    },
    {
      "cell_type": "code",
      "source": [
        "class Vuelo:\n",
        "    def __init__(self, numero_vuelo, origen, destino, capacidad_maxima):\n",
        "        self.numero_vuelo = numero_vuelo\n",
        "        self.origen = origen\n",
        "        self.destino = destino\n",
        "        self.capacidad_maxima = capacidad_maxima\n",
        "        self.asientos_disponibles = capacidad_maxima\n",
        "        self.reservas = []\n",
        "\n",
        "    def verificar_asientos_disponibles(self):\n",
        "        return self.asientos_disponibles\n",
        "\n",
        "    def realizar_reserva(self, num_asientos):\n",
        "        if num_asientos <= self.asientos_disponibles:\n",
        "            self.asientos_disponibles -= num_asientos\n",
        "            self.reservas.append(num_asientos)\n",
        "            print(f\"Reserva exitosa para {num_asientos} pasajero(s).\")\n",
        "        else:\n",
        "            print(\"Lo siento, no hay suficientes asientos disponibles.\")\n",
        "    def mostrar_informacion_vuelo(self):\n",
        "        print(f\"Vuelo {self.numero_vuelo}: {self.origen} -> {self.destino}\")\n",
        "        print(f\"Capacidad máxima: {self.capacidad_maxima}\")\n",
        "        print(f\"Asientos disponibles: {self.asientos_disponibles}\")\n",
        "class VueloEconomico(Vuelo):\n",
        "    def __init__(self, numero_vuelo, origen, destino, capacidad_maxima, tarifa):\n",
        "        super().__init__(numero_vuelo, origen, destino, capacidad_maxima)\n",
        "        self.tarifa = tarifa\n",
        "\n",
        "    def calcular_precio_total(self, num_asientos):\n",
        "        return self.tarifa * num_asientos\n",
        "\n",
        "# Ejemplo de uso\n",
        "vuelo_regular = Vuelo(\"AA123\", \"Nueva York\", \"Los Ángeles\", 150)\n",
        "vuelo_regular.mostrar_informacion_vuelo()\n",
        "vuelo_regular.realizar_reserva(3)\n",
        "vuelo_regular.realizar_reserva(2)\n",
        "vuelo_regular.mostrar_informacion_vuelo()\n",
        "\n",
        "vuelo_economico = VueloEconomico(\"BB456\", \"Chicago\", \"Miami\", 100, 200)\n",
        "vuelo_economico.mostrar_informacion_vuelo()\n",
        "vuelo_economico.realizar_reserva(4)\n",
        "vuelo_economico.realizar_reserva(3)\n",
        "vuelo_economico.mostrar_informacion_vuelo()\n",
        "print(f\"Precio total de la reserva: ${vuelo_economico.calcular_precio_total(4)}\")\n"
      ],
      "metadata": {
        "colab": {
          "base_uri": "https://localhost:8080/"
        },
        "id": "lpggS7PMh5xB",
        "outputId": "24ee88eb-dbc6-4579-ca1d-2cd8c58c207d"
      },
      "execution_count": 29,
      "outputs": [
        {
          "output_type": "stream",
          "name": "stdout",
          "text": [
            "Vuelo AA123: Nueva York -> Los Ángeles\n",
            "Capacidad máxima: 150\n",
            "Asientos disponibles: 150\n",
            "Reserva exitosa para 3 pasajero(s).\n",
            "Reserva exitosa para 2 pasajero(s).\n",
            "Vuelo AA123: Nueva York -> Los Ángeles\n",
            "Capacidad máxima: 150\n",
            "Asientos disponibles: 145\n",
            "Vuelo BB456: Chicago -> Miami\n",
            "Capacidad máxima: 100\n",
            "Asientos disponibles: 100\n",
            "Reserva exitosa para 4 pasajero(s).\n",
            "Reserva exitosa para 3 pasajero(s).\n",
            "Vuelo BB456: Chicago -> Miami\n",
            "Capacidad máxima: 100\n",
            "Asientos disponibles: 93\n",
            "Precio total de la reserva: $800\n"
          ]
        }
      ]
    }
  ]
}